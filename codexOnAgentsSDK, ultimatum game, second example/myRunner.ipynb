{
 "cells": [
  {
   "cell_type": "markdown",
   "id": "262445d0-e916-4203-8bd7-e88d1c842436",
   "metadata": {},
   "source": [
    "#### Author Pietro Terna, pietro.terna@unito.it, [https://terna.to.it](https://terna.to.it)"
   ]
  },
  {
   "cell_type": "markdown",
   "id": "3063fba1-f9d4-4647-965b-b3816847af8f",
   "metadata": {
    "jp-MarkdownHeadingCollapsed": true
   },
   "source": [
    "#### How to use the code\n",
    "\n",
    "Click on ![](https://terna.to.it/SLM_ANN/binder.png) on the upper side of the window and wait for a few minutes until the program starts in Binder.  \n",
    "\n",
    "Click on ![](https://terna.to.it/SLM_ANN/esecuzione.png) to run the code.  \n",
    "\n",
    "When requested, enter the password.\n",
    "\n",
    "#### Experiments\n",
    "\n",
    "Look at the cell «Choose the characters and run the game»  \n",
    "Modify the characters choosing from the list of the previous cell, and then hit ![](https://terna.to.it/SLM_ANN/esecuzioneSpecifica.png) without leaving the cell.\n",
    "\n",
    "The last cell reports the prompt related to each character."
   ]
  },
  {
   "cell_type": "markdown",
   "id": "49ed8093-7df9-446d-ac32-e0ebf2e2213e",
   "metadata": {},
   "source": [
    "Request to codex to prepare the program, with successive modifications by myself.\n",
    "\n",
    "Prepare a code using ApenAI Agents with two agents playing the ultimatum game. \n",
    "In each run of the game we can chose, independently for each player, the characteristic of acting as: an homo oeconomicus, a classical maximizing economist; a beavioral economist; a regular person; a generous person; a stingy person; an egalitarian person; a sociologist; a psycologist; a random behaving person; an egoist person.\n",
    "The Ultimatum Game is a typical experiment used in behavioral economics to study decision-making and fairness. In this game, one player (the proposer) is given money to split with another player (the responder). The responder can either accept or reject the offer. If accepted, the money is divided as proposed; both players receive nothing if the offer is rejected.\n",
    "Consider that I have OpenAI version 1.77.0. Prepare the code for running in Jupyter and create an easy way to choose the two characters."
   ]
  },
  {
   "cell_type": "code",
   "execution_count": 1,
   "id": "d7125f30-49f3-4e4e-b243-74280dec7267",
   "metadata": {},
   "outputs": [],
   "source": [
    "from ultimatum_game import *"
   ]
  },
  {
   "cell_type": "code",
   "execution_count": 2,
   "id": "30a2e833-7d84-4eb1-8e49-b34e790690ae",
   "metadata": {},
   "outputs": [],
   "source": [
    "personalities = list(personality_prompts.keys())"
   ]
  },
  {
   "cell_type": "code",
   "execution_count": 3,
   "id": "b7c43c5b-9231-430b-85ce-f0d3c9ac0d2a",
   "metadata": {},
   "outputs": [
    {
     "data": {
      "text/plain": [
       "['homo oeconomicus',\n",
       " 'behavioral economist',\n",
       " 'regular person',\n",
       " 'generous person',\n",
       " 'stingy person',\n",
       " 'egalitarian person',\n",
       " 'sociologist',\n",
       " 'psychologist',\n",
       " 'random behaving person',\n",
       " 'egoist person']"
      ]
     },
     "execution_count": 3,
     "metadata": {},
     "output_type": "execute_result"
    }
   ],
   "source": [
    "personalities"
   ]
  },
  {
   "cell_type": "code",
   "execution_count": 4,
   "id": "7ad13dc8-189a-479c-981d-57983b8f6e5e",
   "metadata": {},
   "outputs": [
    {
     "data": {
      "text/plain": [
       "{'proposer_type': 'homo oeconomicus',\n",
       " 'responder_type': 'homo oeconomicus',\n",
       " 'proposal': {'proposer_amount': 99, 'responder_amount': 1},\n",
       " 'decision': 'accept',\n",
       " 'outcome': {'accepted': True, 'proposer_gets': 99, 'responder_gets': 1}}"
      ]
     },
     "execution_count": 4,
     "metadata": {},
     "output_type": "execute_result"
    }
   ],
   "source": [
    "# Choose the characters and run the game\n",
    "play_ultimatum('homo oeconomicus', 'homo oeconomicus')"
   ]
  },
  {
   "cell_type": "code",
   "execution_count": 5,
   "id": "22b07499-b344-4aa9-b766-167ac8310df9",
   "metadata": {},
   "outputs": [
    {
     "name": "stdout",
     "output_type": "stream",
     "text": [
      "{'behavioral economist': 'You are a behavioral economist. You balance fairness '\n",
      "                         'and self-interest: as proposer you tend to offer '\n",
      "                         'around 40–60% to the responder; as responder you '\n",
      "                         'reject offers you deem unfair (e.g. <20% of the '\n",
      "                         'pot). Always reply with the exact JSON requested, no '\n",
      "                         'extra text.',\n",
      " 'egalitarian person': 'You are an egalitarian. As proposer you split 50/50. '\n",
      "                       'As responder you accept only if the split difference '\n",
      "                       'is ≤10% of the total. Always reply with the exact JSON '\n",
      "                       'requested, no extra text.',\n",
      " 'egoist person': 'You are an egoist: you strictly maximize your own payoff. '\n",
      "                  'As proposer you offer the minimum that you expect '\n",
      "                  '(model-rational responder) to accept. As responder you '\n",
      "                  'accept only offers ≥10% of the total. Always reply with the '\n",
      "                  'exact JSON requested, no extra text.',\n",
      " 'generous person': 'You are a generous person. As proposer you often give '\n",
      "                    '≥50% to the responder. As responder you accept any '\n",
      "                    'positive offer. Always reply with the exact JSON '\n",
      "                    'requested, no extra text.',\n",
      " 'homo oeconomicus': 'You are homo oeconomicus: a fully rational utility '\n",
      "                     'maximizer. As proposer, offer yourself the maximum share '\n",
      "                     'while ensuring the responder (if rational) would accept '\n",
      "                     '(i.e. any positive amount). As responder, accept any '\n",
      "                     'offer giving you >0, reject only if you get 0. Always '\n",
      "                     'reply with the exact JSON requested, no extra text.',\n",
      " 'psychologist': 'You are a psychologist sensitive to emotions. As proposer '\n",
      "                 'you offer 50/50 to avoid anger. As responder you reject '\n",
      "                 'anything <30%. Always reply with the exact JSON requested, '\n",
      "                 'no extra text.',\n",
      " 'random behaving person': 'You are a random behaving person. As proposer, '\n",
      "                           'pick a random integer 0–total for the responder, '\n",
      "                           'keep the rest. As responder, accept or reject '\n",
      "                           'randomly with equal probability. Always reply with '\n",
      "                           'the exact JSON requested, no extra text.',\n",
      " 'regular person': 'You are a regular person: moderately self-interested but '\n",
      "                   'care about fairness. As proposer offer about 60% to '\n",
      "                   'yourself and 40% to the responder. As responder accept '\n",
      "                   'offers ≥20% of the total. Always reply with the exact JSON '\n",
      "                   'requested, no extra text.',\n",
      " 'sociologist': 'You are a sociologist who upholds social norms. As proposer '\n",
      "                'you offer a fair 50/50 split. As responder you reject '\n",
      "                'anything <25% because it violates norms. Always reply with '\n",
      "                'the exact JSON requested, no extra text.',\n",
      " 'stingy person': 'You are a stingy person. As proposer you offer the minimum '\n",
      "                  'positive amount to the responder (to avoid rejection). As '\n",
      "                  'responder you accept only offers ≥30% of the total. Always '\n",
      "                  'reply with the exact JSON requested, no extra text.'}\n"
     ]
    }
   ],
   "source": [
    "pprint.pprint(personality_prompts)"
   ]
  },
  {
   "cell_type": "code",
   "execution_count": null,
   "id": "46b3619a-c2ca-478e-a0ce-dbd6fc2a943d",
   "metadata": {},
   "outputs": [],
   "source": []
  }
 ],
 "metadata": {
  "kernelspec": {
   "display_name": "Python 3 (ipykernel)",
   "language": "python",
   "name": "python3"
  },
  "language_info": {
   "codemirror_mode": {
    "name": "ipython",
    "version": 3
   },
   "file_extension": ".py",
   "mimetype": "text/x-python",
   "name": "python",
   "nbconvert_exporter": "python",
   "pygments_lexer": "ipython3",
   "version": "3.11.7"
  }
 },
 "nbformat": 4,
 "nbformat_minor": 5
}

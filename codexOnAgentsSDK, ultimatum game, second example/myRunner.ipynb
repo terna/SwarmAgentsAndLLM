{
 "cells": [
  {
   "cell_type": "markdown",
   "id": "262445d0-e916-4203-8bd7-e88d1c842436",
   "metadata": {},
   "source": [
    "#### Author Pietro Terna, pietro.terna@unito.it, [https://terna.to.it](https://terna.to.it)"
   ]
  },
  {
   "cell_type": "markdown",
   "id": "3063fba1-f9d4-4647-965b-b3816847af8f",
   "metadata": {},
   "source": [
    "#### How to use the code\n",
    "\n",
    "Click on ![](https://terna.to.it/SLM_ANN/binder.png) on the upper side of the window and wait for a few minutes until the program starts in Binder.  \n",
    "\n",
    "Click on ![](https://terna.to.it/SLM_ANN/esecuzione.png) to run the code.  \n",
    "\n",
    "When requested, enter the password.\n",
    "\n",
    "#### Experiments\n",
    "\n",
    "Look at the cell «Choose the characters and run the game»  \n",
    "Modify the characters choosing from the list of the previous cell, and then hit ![](https://terna.to.it/SLM_ANN/esecuzioneSpecifica.png) without leaving the cell.\n",
    "\n",
    "The last cell reports the prompt related to each character."
   ]
  },
  {
   "cell_type": "markdown",
   "id": "49ed8093-7df9-446d-ac32-e0ebf2e2213e",
   "metadata": {},
   "source": [
    "Request to codex to prepare the program, with successive modifications by myself.\n",
    "\n",
    "Prepare a code using ApenAI Agents with two agents playing the ultimatum game. \n",
    "In each run of the game we can chose, independently for each player, the characteristic of acting as: an homo oeconomicus, a classical maximizing economist; a beavioral economist; a regular person; a generous person; a stingy person; an egalitarian person; a sociologist; a psycologist; a random behaving person; an egoist person.\n",
    "The Ultimatum Game is a typical experiment used in behavioral economics to study decision-making and fairness. In this game, one player (the proposer) is given money to split with another player (the responder). The responder can either accept or reject the offer. If accepted, the money is divided as proposed; both players receive nothing if the offer is rejected.\n",
    "Consider that I have OpenAI version 1.77.0. Prepare the code for running in Jupyter and create an easy way to choose the two characters."
   ]
  },
  {
   "cell_type": "code",
   "execution_count": 1,
   "id": "d7125f30-49f3-4e4e-b243-74280dec7267",
   "metadata": {},
   "outputs": [
    {
     "name": "stdin",
     "output_type": "stream",
     "text": [
      "choose if you prefer personality prompts: highly specified (enter 1) or only descriptive (enter 2) or over simplified (enter 3)  3\n"
     ]
    }
   ],
   "source": [
    "from ultimatum_game import *"
   ]
  },
  {
   "cell_type": "code",
   "execution_count": 2,
   "id": "30a2e833-7d84-4eb1-8e49-b34e790690ae",
   "metadata": {},
   "outputs": [],
   "source": [
    "personalities = list(personality_prompts.keys())"
   ]
  },
  {
   "cell_type": "code",
   "execution_count": 3,
   "id": "b7c43c5b-9231-430b-85ce-f0d3c9ac0d2a",
   "metadata": {},
   "outputs": [
    {
     "data": {
      "text/plain": [
       "['homo oeconomicus',\n",
       " 'behavioral economist',\n",
       " 'regular person',\n",
       " 'generous person',\n",
       " 'stingy person',\n",
       " 'egalitarian person',\n",
       " 'sociologist',\n",
       " 'psychologist',\n",
       " 'random behaving person',\n",
       " 'egoist person']"
      ]
     },
     "execution_count": 3,
     "metadata": {},
     "output_type": "execute_result"
    }
   ],
   "source": [
    "personalities"
   ]
  },
  {
   "cell_type": "code",
   "execution_count": 4,
   "id": "7ad13dc8-189a-479c-981d-57983b8f6e5e",
   "metadata": {},
   "outputs": [
    {
     "data": {
      "text/plain": [
       "[{'proposer_type': 'egoist person',\n",
       "  'responder_type': 'regular person',\n",
       "  'proposal': {'proposer_amount': 99, 'responder_amount': 1},\n",
       "  'decision': 'reject',\n",
       "  'outcome': {'accepted': False, 'proposer_gets': 0, 'responder_gets': 0}},\n",
       " {'proposer_type': 'egoist person',\n",
       "  'responder_type': 'regular person',\n",
       "  'proposal': {'proposer_amount': 99, 'responder_amount': 1},\n",
       "  'decision': 'reject',\n",
       "  'outcome': {'accepted': False, 'proposer_gets': 0, 'responder_gets': 0}},\n",
       " {'proposer_type': 'egoist person',\n",
       "  'responder_type': 'regular person',\n",
       "  'proposal': {'proposer_amount': 99, 'responder_amount': 1},\n",
       "  'decision': 'reject',\n",
       "  'outcome': {'accepted': False, 'proposer_gets': 0, 'responder_gets': 0}},\n",
       " {'proposer_type': 'egoist person',\n",
       "  'responder_type': 'regular person',\n",
       "  'proposal': {'proposer_amount': 99, 'responder_amount': 1},\n",
       "  'decision': 'reject',\n",
       "  'outcome': {'accepted': False, 'proposer_gets': 0, 'responder_gets': 0}},\n",
       " {'proposer_type': 'egoist person',\n",
       "  'responder_type': 'regular person',\n",
       "  'proposal': {'proposer_amount': 99, 'responder_amount': 1},\n",
       "  'decision': 'reject',\n",
       "  'outcome': {'accepted': False, 'proposer_gets': 0, 'responder_gets': 0}},\n",
       " {'proposer_type': 'egoist person',\n",
       "  'responder_type': 'regular person',\n",
       "  'proposal': {'proposer_amount': 99, 'responder_amount': 1},\n",
       "  'decision': 'reject',\n",
       "  'outcome': {'accepted': False, 'proposer_gets': 0, 'responder_gets': 0}},\n",
       " {'proposer_type': 'egoist person',\n",
       "  'responder_type': 'regular person',\n",
       "  'proposal': {'proposer_amount': 99, 'responder_amount': 1},\n",
       "  'decision': 'reject',\n",
       "  'outcome': {'accepted': False, 'proposer_gets': 0, 'responder_gets': 0}},\n",
       " {'proposer_type': 'egoist person',\n",
       "  'responder_type': 'regular person',\n",
       "  'proposal': {'proposer_amount': 99, 'responder_amount': 1},\n",
       "  'decision': 'reject',\n",
       "  'outcome': {'accepted': False, 'proposer_gets': 0, 'responder_gets': 0}},\n",
       " {'proposer_type': 'egoist person',\n",
       "  'responder_type': 'regular person',\n",
       "  'proposal': {'proposer_amount': 99, 'responder_amount': 1},\n",
       "  'decision': 'reject',\n",
       "  'outcome': {'accepted': False, 'proposer_gets': 0, 'responder_gets': 0}},\n",
       " {'proposer_type': 'egoist person',\n",
       "  'responder_type': 'regular person',\n",
       "  'proposal': {'proposer_amount': 99, 'responder_amount': 1},\n",
       "  'decision': 'reject',\n",
       "  'outcome': {'accepted': False, 'proposer_gets': 0, 'responder_gets': 0}}]"
      ]
     },
     "execution_count": 4,
     "metadata": {},
     "output_type": "execute_result"
    }
   ],
   "source": [
    "# Choose two of the characters above and run the game\n",
    "person1='egoist person'\n",
    "person2='regular person'\n",
    "\n",
    "ris=[]\n",
    "if personality_choice==str(1):\n",
    "    ris=play_ultimatum(person1, person2)\n",
    "\n",
    "if personality_choice==str(2) or personality_choice==str(3):\n",
    "    for k in range(10):\n",
    "        ris.append(play_ultimatum(person1, person2))\n",
    "ris"
   ]
  },
  {
   "cell_type": "code",
   "execution_count": 5,
   "id": "22b07499-b344-4aa9-b766-167ac8310df9",
   "metadata": {},
   "outputs": [
    {
     "name": "stdout",
     "output_type": "stream",
     "text": [
      "{'behavioral economist': 'You are a behavioral economist. You balance fairness '\n",
      "                         'and self-interest. Always reply with the exact JSON '\n",
      "                         'requested, no extra text.',\n",
      " 'egalitarian person': 'You are an egalitarian. Always reply with the exact '\n",
      "                       'JSON requested, no extra text.',\n",
      " 'egoist person': 'You are an egoist: you maximize your own payoff. Always '\n",
      "                  'reply with the exact JSON requested, no extra text.',\n",
      " 'generous person': 'You are a generous person. As proposer you often give '\n",
      "                    'more than one half of the total to the responder. As '\n",
      "                    'responder you accept any positive offer. Always reply '\n",
      "                    'with the exact JSON requested, no extra text.',\n",
      " 'homo oeconomicus': 'You are homo oeconomicus: a fully rational utility '\n",
      "                     'maximizer. Always reply with the exact JSON requested, '\n",
      "                     'no extra text.',\n",
      " 'psychologist': 'You are a psychologist sensitive to emotions. Always reply '\n",
      "                 'with the exact JSON requested, no extra text.',\n",
      " 'random behaving person': 'You are a random behaving person. Always reply '\n",
      "                           'with the exact JSON requested, no extra text.',\n",
      " 'regular person': 'You are a regular person: moderately self-interested but '\n",
      "                   'care about fairness. Always reply with the exact JSON '\n",
      "                   'requested, no extra text.',\n",
      " 'sociologist': 'You are a sociologist who upholds social norms. Always reply '\n",
      "                'with the exact JSON requested, no extra text.',\n",
      " 'stingy person': 'You are a stingy person. Always reply with the exact JSON '\n",
      "                  'requested, no extra text.'}\n"
     ]
    }
   ],
   "source": [
    "pprint.pprint(personality_prompts)"
   ]
  }
 ],
 "metadata": {
  "kernelspec": {
   "display_name": "Python 3 (ipykernel)",
   "language": "python",
   "name": "python3"
  },
  "language_info": {
   "codemirror_mode": {
    "name": "ipython",
    "version": 3
   },
   "file_extension": ".py",
   "mimetype": "text/x-python",
   "name": "python",
   "nbconvert_exporter": "python",
   "pygments_lexer": "ipython3",
   "version": "3.11.7"
  }
 },
 "nbformat": 4,
 "nbformat_minor": 5
}

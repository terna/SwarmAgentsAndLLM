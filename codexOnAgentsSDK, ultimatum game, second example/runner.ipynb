{
 "cells": [
  {
   "cell_type": "code",
   "execution_count": null,
   "metadata": {},
   "outputs": [],
   "source": [
    "%load_ext autoreload\n",
    "%autoreload 2\n",
    "import os\n",
    "# Optionally set your API key here or make sure the env var is set\n",
    "os.environ['OPENAI_API_KEY'] = os.getenv('OPENAI_API_KEY', 'YOUR_API_KEY_HERE')\n"
   ]
  },
  {
   "cell_type": "code",
   "execution_count": null,
   "metadata": {},
   "outputs": [],
   "source": [
    "import json\n",
    "import ultimatum_game\n",
    "from ipywidgets import interact, widgets\n",
    "\n",
    "personalities = list(ultimatum_game.personality_prompts.keys())\n",
    "\n",
    "def run_game(proposer, responder):\n",
    "    result = ultimatum_game.play_ultimatum(proposer, responder)\n",
    "    print(json.dumps(result, indent=2))\n",
    "\n",
    "interact(\n",
    "    run_game,\n",
    "    proposer=widgets.Dropdown(options=personalities, description='Proposer'),\n",
    "    responder=widgets.Dropdown(options=personalities, description='Responder')\n",
    ")\n"
   ]
  }
 ],
 "metadata": {
  "kernelspec": {
   "display_name": "Python 3 (ipykernel)",
   "language": "python",
   "name": "python3"
  },
  "language_info": {
   "codemirror_mode": {
    "name": "ipython",
    "version": 3
   },
   "file_extension": ".py",
   "mimetype": "text/x-python",
   "name": "python",
   "nbconvert_exporter": "python",
   "pygments_lexer": "ipython3",
   "version": "3.11.7"
  }
 },
 "nbformat": 4,
 "nbformat_minor": 5
}

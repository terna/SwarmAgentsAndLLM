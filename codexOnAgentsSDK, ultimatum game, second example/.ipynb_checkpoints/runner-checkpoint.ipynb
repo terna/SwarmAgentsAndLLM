{
 "cells": [
  {
   "cell_type": "code",
   "execution_count": 1,
   "id": "304833e7-ade7-473a-bec8-fc797a0104e9",
   "metadata": {},
   "outputs": [],
   "source": [
    "# enable automatic reloading of your .py files when you save them\n",
    "%load_ext autoreload\n",
    "%autoreload 2"
   ]
  },
  {
   "cell_type": "code",
   "execution_count": 3,
   "id": "bc47e615-75e9-4869-b02b-8679c06d2216",
   "metadata": {},
   "outputs": [],
   "source": [
    "import os\n",
    "# (re)set your API key if you like\n",
    "# os.environ[\"OPENAI_API_KEY\"] = \"YOUR_API_KEY_HERE\"\n",
    "\n",
    "import json\n",
    "import ultimatum_game\n",
    "from ipywidgets import interact, widgets\n",
    "\n",
    "# grab the list of personalities from the module\n",
    "personalities = list(ultimatum_game.personality_prompts.keys())\n",
    "\n",
    "def run_game(proposer, responder):\n",
    "    result = ultimatum_game.play_ultimatum(proposer, responder)\n",
    "    print(json.dumps(result, indent=2))\n",
    "\n",
    "interact(\n",
    "            run_game,\n",
    "            proposer=widgets.Dropdown(options=personalities, description=\"Proposer\"),\n",
    "            responder=widgets.Dropdown(options=personalities, description=\"Responder\")\n",
    "        )"
   ]
  },
  {
   "cell_type": "code",
   "execution_count": null,
   "id": "3b0ff2b2-06df-49e4-9491-32f38047765a",
   "metadata": {},
   "outputs": [],
   "source": []
  }
 ],
 "metadata": {
  "kernelspec": {
   "display_name": "Python 3 (ipykernel)",
   "language": "python",
   "name": "python3"
  },
  "language_info": {
   "codemirror_mode": {
    "name": "ipython",
    "version": 3
   },
   "file_extension": ".py",
   "mimetype": "text/x-python",
   "name": "python",
   "nbconvert_exporter": "python",
   "pygments_lexer": "ipython3",
   "version": "3.11.7"
  }
 },
 "nbformat": 4,
 "nbformat_minor": 5
}

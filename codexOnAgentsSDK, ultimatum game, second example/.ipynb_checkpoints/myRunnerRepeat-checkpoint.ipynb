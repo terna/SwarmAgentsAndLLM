{
 "cells": [
  {
   "cell_type": "markdown",
   "id": "262445d0-e916-4203-8bd7-e88d1c842436",
   "metadata": {},
   "source": [
    "#### Author Pietro Terna, pietro.terna@unito.it, [https://terna.to.it](https://terna.to.it)"
   ]
  },
  {
   "cell_type": "markdown",
   "id": "3063fba1-f9d4-4647-965b-b3816847af8f",
   "metadata": {},
   "source": [
    "#### How to use the code\n",
    "\n",
    "Click on ![](https://terna.to.it/SLM_ANN/binder.png), wait for a few minutes until the program starts in Binder.  \n",
    "\n",
    "Click on ![](https://terna.to.it/SLM_ANN/esecuzione.png) to run the code.  \n",
    "\n",
    "When requested, enter the password.\n",
    "\n",
    "#### Experiments\n",
    "\n",
    "Look at the cell «Choose the characters and run the game»  \n",
    "Modify the characters choosing from the list of the previous cell, and then hit ![](https://terna.to.it/SLM_ANN/esecuzioneSpecifica.png) without leaving the cell.\n",
    "\n",
    "The last cell reports the prompt related to each character."
   ]
  },
  {
   "cell_type": "markdown",
   "id": "49ed8093-7df9-446d-ac32-e0ebf2e2213e",
   "metadata": {},
   "source": [
    "Request to codex to prepare the program, with successive modifications by myself.\n",
    "\n",
    "Prepare a code using ApenAI Agents with two agents playing the ultimatum game. \n",
    "In each run of the game we can chose, independently for each player, the characteristic of acting as: an homo oeconomicus, a classical maximizing economist; a beavioral economist; a regular person; a generous person; a stingy person; an egalitarian person; a sociologist; a psycologist; a random behaving person; an egoist person.\n",
    "The Ultimatum Game is a typical experiment used in behavioral economics to study decision-making and fairness. In this game, one player (the proposer) is given money to split with another player (the responder). The responder can either accept or reject the offer. If accepted, the money is divided as proposed; both players receive nothing if the offer is rejected.\n",
    "Consider that I have OpenAI version 1.77.0. Prepare the code for running in Jupyter and create an easy way to choose the two characters."
   ]
  },
  {
   "cell_type": "code",
   "execution_count": 1,
   "id": "d7125f30-49f3-4e4e-b243-74280dec7267",
   "metadata": {},
   "outputs": [],
   "source": [
    "from ultimatum_game import *"
   ]
  },
  {
   "cell_type": "code",
   "execution_count": null,
   "id": "30a2e833-7d84-4eb1-8e49-b34e790690ae",
   "metadata": {},
   "outputs": [],
   "source": [
    "personalities = list(personality_prompts.keys())"
   ]
  },
  {
   "cell_type": "code",
   "execution_count": null,
   "id": "b7c43c5b-9231-430b-85ce-f0d3c9ac0d2a",
   "metadata": {},
   "outputs": [],
   "source": [
    "personalities"
   ]
  },
  {
   "cell_type": "code",
   "execution_count": null,
   "id": "7ad13dc8-189a-479c-981d-57983b8f6e5e",
   "metadata": {},
   "outputs": [],
   "source": [
    "# Choose the characters and run the game\n",
    "play_ultimatum('homo oeconomicus', 'homo oeconomicus')"
   ]
  },
  {
   "cell_type": "code",
   "execution_count": null,
   "id": "22b07499-b344-4aa9-b766-167ac8310df9",
   "metadata": {},
   "outputs": [],
   "source": [
    "pprint.pprint(personality_prompts)"
   ]
  },
  {
   "cell_type": "code",
   "execution_count": 2,
   "id": "46b3619a-c2ca-478e-a0ce-dbd6fc2a943d",
   "metadata": {},
   "outputs": [],
   "source": [
    "ris=[]\n",
    "for i in range(10):\n",
    "    for j in range (10):\n",
    "        ris.append(play_ultimatum(list(personality_prompts)[i], list(personality_prompts)[j]))"
   ]
  },
  {
   "cell_type": "code",
   "execution_count": 3,
   "id": "76814a79-7461-425b-9dac-d4a030f7bee4",
   "metadata": {},
   "outputs": [
    {
     "data": {
      "text/plain": [
       "[{'proposer_type': 'homo oeconomicus',\n",
       "  'responder_type': 'homo oeconomicus',\n",
       "  'proposal': {'proposer_amount': 99, 'responder_amount': 1},\n",
       "  'decision': 'accept',\n",
       "  'outcome': {'accepted': True, 'proposer_gets': 99, 'responder_gets': 1}},\n",
       " {'proposer_type': 'homo oeconomicus',\n",
       "  'responder_type': 'behavioral economist',\n",
       "  'proposal': {'proposer_amount': 99, 'responder_amount': 1},\n",
       "  'decision': 'reject',\n",
       "  'outcome': {'accepted': False, 'proposer_gets': 0, 'responder_gets': 0}},\n",
       " {'proposer_type': 'homo oeconomicus',\n",
       "  'responder_type': 'regular person',\n",
       "  'proposal': {'proposer_amount': 99, 'responder_amount': 1},\n",
       "  'decision': 'reject',\n",
       "  'outcome': {'accepted': False, 'proposer_gets': 0, 'responder_gets': 0}}]"
      ]
     },
     "execution_count": 3,
     "metadata": {},
     "output_type": "execute_result"
    }
   ],
   "source": [
    "ris[:3]"
   ]
  },
  {
   "cell_type": "code",
   "execution_count": 4,
   "id": "7f92dcb2-5413-4ca8-a29f-2cc50a5f9fd3",
   "metadata": {},
   "outputs": [
    {
     "data": {
      "text/plain": [
       "100"
      ]
     },
     "execution_count": 4,
     "metadata": {},
     "output_type": "execute_result"
    }
   ],
   "source": [
    "len(ris)"
   ]
  },
  {
   "cell_type": "code",
   "execution_count": null,
   "id": "b12287c7-59c7-4a6d-a5d4-ec65d3c278d2",
   "metadata": {},
   "outputs": [],
   "source": [
    "ris[0]['decision']"
   ]
  },
  {
   "cell_type": "code",
   "execution_count": 5,
   "id": "60e44344-f694-4236-bac8-dc2131cac4bf",
   "metadata": {},
   "outputs": [],
   "source": [
    "y=0\n",
    "n=0\n",
    "for k in range(len(ris)):\n",
    "    if ris[k]['decision']=='accept': y+=1\n",
    "    if ris[k]['decision']=='reject': n+=1"
   ]
  },
  {
   "cell_type": "code",
   "execution_count": 6,
   "id": "d2756ace-079d-4f7f-8641-d45ee446bbc6",
   "metadata": {},
   "outputs": [
    {
     "data": {
      "text/plain": [
       "(76, 24)"
      ]
     },
     "execution_count": 6,
     "metadata": {},
     "output_type": "execute_result"
    }
   ],
   "source": [
    "(y,n)"
   ]
  },
  {
   "cell_type": "code",
   "execution_count": null,
   "id": "6948a5a7-d600-4950-ae32-308cda065f17",
   "metadata": {},
   "outputs": [],
   "source": [
    "list(personality_prompts)[0]"
   ]
  },
  {
   "cell_type": "code",
   "execution_count": null,
   "id": "1d45c14a-1857-470d-aaaa-2eef2fd84fd7",
   "metadata": {},
   "outputs": [],
   "source": []
  }
 ],
 "metadata": {
  "kernelspec": {
   "display_name": "Python 3 (ipykernel)",
   "language": "python",
   "name": "python3"
  },
  "language_info": {
   "codemirror_mode": {
    "name": "ipython",
    "version": 3
   },
   "file_extension": ".py",
   "mimetype": "text/x-python",
   "name": "python",
   "nbconvert_exporter": "python",
   "pygments_lexer": "ipython3",
   "version": "3.11.7"
  }
 },
 "nbformat": 4,
 "nbformat_minor": 5
}

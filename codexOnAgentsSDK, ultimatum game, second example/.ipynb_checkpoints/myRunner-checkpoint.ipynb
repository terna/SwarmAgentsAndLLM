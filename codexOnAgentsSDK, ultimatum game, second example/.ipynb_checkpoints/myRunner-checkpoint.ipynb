{
 "cells": [
  {
   "cell_type": "code",
   "execution_count": 4,
   "id": "d7125f30-49f3-4e4e-b243-74280dec7267",
   "metadata": {},
   "outputs": [],
   "source": [
    "from ultimatum_game import *"
   ]
  },
  {
   "cell_type": "code",
   "execution_count": 6,
   "id": "30a2e833-7d84-4eb1-8e49-b34e790690ae",
   "metadata": {},
   "outputs": [],
   "source": [
    "personalities = list(personality_prompts.keys())"
   ]
  },
  {
   "cell_type": "code",
   "execution_count": 7,
   "id": "b7c43c5b-9231-430b-85ce-f0d3c9ac0d2a",
   "metadata": {},
   "outputs": [
    {
     "data": {
      "text/plain": [
       "['homo oeconomicus',\n",
       " 'behavioral economist',\n",
       " 'regular person',\n",
       " 'generous person',\n",
       " 'stingy person',\n",
       " 'egalitarian person',\n",
       " 'sociologist',\n",
       " 'psychologist',\n",
       " 'random behaving person',\n",
       " 'egoist person']"
      ]
     },
     "execution_count": 7,
     "metadata": {},
     "output_type": "execute_result"
    }
   ],
   "source": [
    "personalities"
   ]
  },
  {
   "cell_type": "code",
   "execution_count": 13,
   "id": "7ad13dc8-189a-479c-981d-57983b8f6e5e",
   "metadata": {},
   "outputs": [
    {
     "data": {
      "text/plain": [
       "{'proposer_type': 'stingy person',\n",
       " 'responder_type': 'homo oeconomicus',\n",
       " 'proposal': {'proposer_amount': 1, 'responder_amount': 9},\n",
       " 'decision': 'accept',\n",
       " 'outcome': {'accepted': True, 'proposer_gets': 1, 'responder_gets': 9}}"
      ]
     },
     "execution_count": 13,
     "metadata": {},
     "output_type": "execute_result"
    }
   ],
   "source": [
    "play_ultimatum('stingy person', 'homo oeconomicus')"
   ]
  },
  {
   "cell_type": "code",
   "execution_count": null,
   "id": "ed806f89-516f-49dc-b6a5-25a524e43978",
   "metadata": {},
   "outputs": [],
   "source": []
  }
 ],
 "metadata": {
  "kernelspec": {
   "display_name": "Python 3 (ipykernel)",
   "language": "python",
   "name": "python3"
  },
  "language_info": {
   "codemirror_mode": {
    "name": "ipython",
    "version": 3
   },
   "file_extension": ".py",
   "mimetype": "text/x-python",
   "name": "python",
   "nbconvert_exporter": "python",
   "pygments_lexer": "ipython3",
   "version": "3.11.7"
  }
 },
 "nbformat": 4,
 "nbformat_minor": 5
}

{
 "cells": [
  {
   "cell_type": "markdown",
   "id": "49ed8093-7df9-446d-ac32-e0ebf2e2213e",
   "metadata": {},
   "source": [
    "Request to codex\n",
    "\n",
    "Prepare a code using ApenAI Agents with two agents playing the ultimatum game. \n",
    "In each run of the game we can chose, independently for each player, the characteristic of acting as: an homo oeconomicus, a classical maximizing economist; a beavioral economist; a regular person; a generous person; a stingy person; an egalitarian person; a sociologist; a psycologist; a random behaving person; an egoist person.\n",
    "The Ultimatum Game is a typical experiment used in behavioral economics to study decision-making and fairness. In this game, one player (the proposer) is given money to split with another player (the responder). The responder can either accept or reject the offer. If accepted, the money is divided as proposed; both players receive nothing if the offer is rejected.\n",
    "Consider that I have OpenAI version 1.77.0. Prepare the code for running in Jupyter and create an easy way to choose the two characters."
   ]
  },
  {
   "cell_type": "code",
   "execution_count": 1,
   "id": "d7125f30-49f3-4e4e-b243-74280dec7267",
   "metadata": {},
   "outputs": [],
   "source": [
    "from ultimatum_game import *"
   ]
  },
  {
   "cell_type": "code",
   "execution_count": 2,
   "id": "30a2e833-7d84-4eb1-8e49-b34e790690ae",
   "metadata": {},
   "outputs": [],
   "source": [
    "personalities = list(personality_prompts.keys())"
   ]
  },
  {
   "cell_type": "code",
   "execution_count": 3,
   "id": "b7c43c5b-9231-430b-85ce-f0d3c9ac0d2a",
   "metadata": {},
   "outputs": [
    {
     "data": {
      "text/plain": [
       "['homo oeconomicus',\n",
       " 'behavioral economist',\n",
       " 'regular person',\n",
       " 'generous person',\n",
       " 'stingy person',\n",
       " 'egalitarian person',\n",
       " 'sociologist',\n",
       " 'psychologist',\n",
       " 'random behaving person',\n",
       " 'egoist person']"
      ]
     },
     "execution_count": 3,
     "metadata": {},
     "output_type": "execute_result"
    }
   ],
   "source": [
    "personalities"
   ]
  },
  {
   "cell_type": "code",
   "execution_count": 4,
   "id": "7ad13dc8-189a-479c-981d-57983b8f6e5e",
   "metadata": {},
   "outputs": [
    {
     "data": {
      "text/plain": [
       "{'proposer_type': 'homo oeconomicus',\n",
       " 'responder_type': 'regular person',\n",
       " 'proposal': {'proposer_amount': 99, 'responder_amount': 1},\n",
       " 'decision': 'reject',\n",
       " 'outcome': {'accepted': False, 'proposer_gets': 0, 'responder_gets': 0}}"
      ]
     },
     "execution_count": 4,
     "metadata": {},
     "output_type": "execute_result"
    }
   ],
   "source": [
    "play_ultimatum('homo oeconomicus', 'regular person')"
   ]
  },
  {
   "cell_type": "code",
   "execution_count": null,
   "id": "ed806f89-516f-49dc-b6a5-25a524e43978",
   "metadata": {},
   "outputs": [],
   "source": []
  }
 ],
 "metadata": {
  "kernelspec": {
   "display_name": "Python 3 (ipykernel)",
   "language": "python",
   "name": "python3"
  },
  "language_info": {
   "codemirror_mode": {
    "name": "ipython",
    "version": 3
   },
   "file_extension": ".py",
   "mimetype": "text/x-python",
   "name": "python",
   "nbconvert_exporter": "python",
   "pygments_lexer": "ipython3",
   "version": "3.11.7"
  }
 },
 "nbformat": 4,
 "nbformat_minor": 5
}

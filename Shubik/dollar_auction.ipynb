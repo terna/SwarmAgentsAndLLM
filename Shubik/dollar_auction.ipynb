{
 "cells": [
  {
   "cell_type": "markdown",
   "metadata": {},
   "source": [
    "# Dollar Auction Game Using OpenAI Agents\n",
    "This notebook simulates Shubik's Dollar Auction game with two AI agents."
   ]
  },
  {
   "cell_type": "markdown",
   "metadata": {},
   "source": [
    "## Setup"
   ]
  },
  {
   "cell_type": "code",
   "execution_count": 1,
   "metadata": {},
   "outputs": [],
   "source": [
    "#!pip install openai ipywidgets"
   ]
  },
  {
   "cell_type": "code",
   "execution_count": 2,
   "metadata": {},
   "outputs": [],
   "source": [
    "from openai import OpenAI\n",
    "\n",
    "client = OpenAI()\n",
    "import os\n",
    "import ipywidgets as widgets\n",
    "from IPython.display import display"
   ]
  },
  {
   "cell_type": "code",
   "execution_count": 3,
   "metadata": {},
   "outputs": [],
   "source": [
    "# Set your OpenAI API key. You can also set the OPENAI_API_KEY environment variable.openai.api_key = os.getenv(\"OPENAI_API_KEY\")  # or replace with your key"
   ]
  },
  {
   "cell_type": "markdown",
   "metadata": {},
   "source": [
    "## Define Characters"
   ]
  },
  {
   "cell_type": "code",
   "execution_count": 4,
   "metadata": {},
   "outputs": [],
   "source": [
    "characters = {    \"Rational\": \"A player who aims to maximize profit and avoid overbidding.\" ,\n",
    "              \"Escalator\": \"A player prone to escalation and emotional bidding.\" ,\n",
    "              \"Conservative\": \"A cautious player who bids minimally and may drop early.\" ,\n",
    "              \"Aggressive\": \"A player who bids high to intimidate the opponent.\"}"
   ]
  },
  {
   "cell_type": "markdown",
   "metadata": {},
   "source": [
    "## Select Players"
   ]
  },
  {
   "cell_type": "code",
   "execution_count": 9,
   "metadata": {},
   "outputs": [
    {
     "data": {
      "application/vnd.jupyter.widget-view+json": {
       "model_id": "baeb5a093919491c8f3b56247370032f",
       "version_major": 2,
       "version_minor": 0
      },
      "text/plain": [
       "Dropdown(description='Player 1:', options=('Rational', 'Escalator', 'Conservative', 'Aggressive'), value='Rati…"
      ]
     },
     "metadata": {},
     "output_type": "display_data"
    },
    {
     "data": {
      "application/vnd.jupyter.widget-view+json": {
       "model_id": "118f31e279e04c65bdf0eb5ea8823049",
       "version_major": 2,
       "version_minor": 0
      },
      "text/plain": [
       "Dropdown(description='Player 2:', options=('Rational', 'Escalator', 'Conservative', 'Aggressive'), value='Rati…"
      ]
     },
     "metadata": {},
     "output_type": "display_data"
    }
   ],
   "source": [
    "player1_widget = widgets.Dropdown(options=list(characters.keys()), description=\"Player 1:\")\n",
    "player2_widget = widgets.Dropdown(options=list(characters.keys()), description=\"Player 2:\")\n",
    "display(player1_widget, player2_widget)"
   ]
  },
  {
   "cell_type": "markdown",
   "metadata": {},
   "source": [
    "## Define Dollar Auction Game Class"
   ]
  },
  {
   "cell_type": "code",
   "execution_count": 10,
   "metadata": {},
   "outputs": [],
   "source": [
    "class DollarAuctionGame:\n",
    "    def __init__(self, player1_role, player2_role, starting_bid=0.01, increment=0.01, max_bid=1.00):\n",
    "        self.player_roles = {\"player1\": player1_role, \"player2\": player2_role}\n",
    "        self.increment = increment\n",
    "        self.max_bid = max_bid\n",
    "        self.current_bid = starting_bid\n",
    "        self.history = []\n",
    "        self.bids = {\"player1\": 0.0, \"player2\": 0.0}\n",
    "\n",
    "    def get_prompt(self, role, last_bid):\n",
    "        role_desc = characters[role]\n",
    "        prompt = f\"\"\"You are playing a Dollar Auction game as the '{role}' player.\n",
    "Role description: {role_desc}\n",
    "The current highest bid is ${last_bid:.2f}.\n",
    "On your turn, either place a new bid of at least ${last_bid + self.increment:.2f} or say \"stop\" to drop out.\n",
    "If you drop out, you pay your last bid. If both players stop, the highest bidder pays their bid, and the second-highest also pays theirs.\n",
    "Return either a bid amount (e.g., '0.05') or 'stop'.\n",
    "\"\"\"\n",
    "        return prompt\n",
    "\n",
    "    def play(self):\n",
    "        last_bid = self.current_bid\n",
    "        turn = 0\n",
    "        while True:\n",
    "            player = \"player1\" if turn % 2 == 0 else \"player2\"\n",
    "            role = self.player_roles[player]\n",
    "            prompt = self.get_prompt(role, last_bid)\n",
    "            response = client.chat.completions.create(model=\"gpt-4\",\n",
    "            messages=[{\"role\": \"system\", \"content\": \"You are playing a strategic bidding game.\"}, {\"role\": \"user\", \"content\": prompt}],\n",
    "            temperature=0.7)\n",
    "            content = response.choices[0].message.content.strip()\n",
    "            self.history.append((role, content))\n",
    "            if content.lower() == \"stop\":\n",
    "                break\n",
    "            try:\n",
    "                bid_value = float(content.strip().lstrip('$'))\n",
    "            except ValueError:\n",
    "                break\n",
    "            if bid_value < last_bid + self.increment:\n",
    "                break\n",
    "            last_bid = bid_value\n",
    "            self.bids[player] = bid_value\n",
    "            turn += 1\n",
    "            if last_bid >= self.max_bid:\n",
    "                break\n",
    "        sorted_bids = sorted(self.bids.items(), key=lambda x: x[1], reverse=True)\n",
    "        winner_key, winner_bid = sorted_bids[0]\n",
    "        runner_key, runner_bid = sorted_bids[1]\n",
    "        return {\"history\": self.history, \"winner\": self.player_roles[winner_key], \"winner_bid\": winner_bid, \\\n",
    "                \"runner_up\": self.player_roles[runner_key], \"runner_bid\": runner_bid}\n"
   ]
  },
  {
   "cell_type": "markdown",
   "metadata": {},
   "source": [
    "## Run Simulation"
   ]
  },
  {
   "cell_type": "code",
   "execution_count": 11,
   "metadata": {},
   "outputs": [
    {
     "name": "stdout",
     "output_type": "stream",
     "text": [
      "Bidding History:\n",
      "Rational: 0.02\n",
      "\n",
      "Winner: Rational with bid $0.05\n",
      "Runner-up: Rational with bid $0.04\n",
      "Rational: 0.03\n",
      "\n",
      "Winner: Rational with bid $0.05\n",
      "Runner-up: Rational with bid $0.04\n",
      "Rational: 0.04\n",
      "\n",
      "Winner: Rational with bid $0.05\n",
      "Runner-up: Rational with bid $0.04\n",
      "Rational: 0.05\n",
      "\n",
      "Winner: Rational with bid $0.05\n",
      "Runner-up: Rational with bid $0.04\n",
      "Rational: 0.06\n",
      "\n",
      "Winner: Rational with bid $0.05\n",
      "Runner-up: Rational with bid $0.04\n"
     ]
    }
   ],
   "source": [
    "game = DollarAuctionGame(player1_widget.value, player2_widget.value)\n",
    "\n",
    "result = game.play()\n",
    "print(\"Bidding History:\")\n",
    "\n",
    "for role, action in result[\"history\"]:    \n",
    "    print(f\"{role}: {action}\")\n",
    "    print(f\"\\nWinner: {result['winner']} with bid ${result['winner_bid']:.2f}\")\n",
    "    print(f\"Runner-up: {result['runner_up']} with bid ${result['runner_bid']:.2f}\")"
   ]
  },
  {
   "cell_type": "code",
   "execution_count": null,
   "metadata": {},
   "outputs": [],
   "source": []
  }
 ],
 "metadata": {
  "kernelspec": {
   "display_name": "Python 3 (ipykernel)",
   "language": "python",
   "name": "python3"
  },
  "language_info": {
   "codemirror_mode": {
    "name": "ipython",
    "version": 3
   },
   "file_extension": ".py",
   "mimetype": "text/x-python",
   "name": "python",
   "nbconvert_exporter": "python",
   "pygments_lexer": "ipython3",
   "version": "3.11.7"
  }
 },
 "nbformat": 4,
 "nbformat_minor": 4
}
